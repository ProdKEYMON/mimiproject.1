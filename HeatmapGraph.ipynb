{
 "cells": [
  {
   "cell_type": "code",
   "execution_count": null,
   "metadata": {},
   "outputs": [],
   "source": [
    "import pandas as pd\n",
    "import numpy as np\n",
    "import plotly.express as px\n"
   ]
  },
  {
   "cell_type": "code",
   "execution_count": 64,
   "metadata": {},
   "outputs": [],
   "source": [
    "raw = pd.read_csv('./datas/동별통합데이터_v2.csv')"
   ]
  },
  {
   "cell_type": "code",
   "execution_count": 65,
   "metadata": {},
   "outputs": [],
   "source": [
    "df = raw.copy()"
   ]
  },
  {
   "cell_type": "code",
   "execution_count": 67,
   "metadata": {},
   "outputs": [],
   "source": [
    "# 팀장님 정규화 코드\n",
    "# Robust Scaler 이용한 정규화\n",
    "# 중앙값0, 사분위수 IQR 기준 정규화\n",
    "\n",
    "from sklearn.preprocessing import RobustScaler\n",
    "\n",
    "def normalization(df):\n",
    "    scaler = RobustScaler()\n",
    "    df_robust = scaler.fit_transform(df)\n",
    "    return df_robust"
   ]
  },
  {
   "cell_type": "code",
   "execution_count": 69,
   "metadata": {},
   "outputs": [],
   "source": [
    "df_norm = df.iloc[:,2:] #string으로 구성된 컬럼 제거하여 새로운 변수에 넣음\n",
    "df_norm\n",
    "df_norm = pd.DataFrame(normalization(df_norm)) #string 제거된 DataFrame을 RobustScaler를 통해 정규화하여 변수에 넣음"
   ]
  },
  {
   "cell_type": "code",
   "execution_count": 106,
   "metadata": {},
   "outputs": [
    {
     "data": {
      "text/html": [
       "<div>\n",
       "<style scoped>\n",
       "    .dataframe tbody tr th:only-of-type {\n",
       "        vertical-align: middle;\n",
       "    }\n",
       "\n",
       "    .dataframe tbody tr th {\n",
       "        vertical-align: top;\n",
       "    }\n",
       "\n",
       "    .dataframe thead th {\n",
       "        text-align: right;\n",
       "    }\n",
       "</style>\n",
       "<table border=\"1\" class=\"dataframe\">\n",
       "  <thead>\n",
       "    <tr style=\"text-align: right;\">\n",
       "      <th></th>\n",
       "      <th>Hospital_Counts</th>\n",
       "      <th>Sales_Counts</th>\n",
       "      <th>Consignment_Counts</th>\n",
       "      <th>Transit_Counts</th>\n",
       "      <th>Production_Counts</th>\n",
       "      <th>Import_Counts</th>\n",
       "      <th>Population</th>\n",
       "      <th>Pet_Owners</th>\n",
       "      <th>Total_Registrations</th>\n",
       "    </tr>\n",
       "  </thead>\n",
       "  <tbody>\n",
       "    <tr>\n",
       "      <th>0</th>\n",
       "      <td>0.25</td>\n",
       "      <td>1.333333</td>\n",
       "      <td>0.75</td>\n",
       "      <td>-0.333333</td>\n",
       "      <td>1.0</td>\n",
       "      <td>0.0</td>\n",
       "      <td>0.315401</td>\n",
       "      <td>0.022222</td>\n",
       "      <td>0.027583</td>\n",
       "    </tr>\n",
       "    <tr>\n",
       "      <th>1</th>\n",
       "      <td>0.00</td>\n",
       "      <td>0.666667</td>\n",
       "      <td>0.25</td>\n",
       "      <td>-0.333333</td>\n",
       "      <td>0.0</td>\n",
       "      <td>0.0</td>\n",
       "      <td>-0.184439</td>\n",
       "      <td>-0.007808</td>\n",
       "      <td>-0.044132</td>\n",
       "    </tr>\n",
       "    <tr>\n",
       "      <th>2</th>\n",
       "      <td>-0.25</td>\n",
       "      <td>0.000000</td>\n",
       "      <td>-0.25</td>\n",
       "      <td>0.333333</td>\n",
       "      <td>0.0</td>\n",
       "      <td>0.0</td>\n",
       "      <td>0.000000</td>\n",
       "      <td>0.000000</td>\n",
       "      <td>-0.026580</td>\n",
       "    </tr>\n",
       "    <tr>\n",
       "      <th>3</th>\n",
       "      <td>2.50</td>\n",
       "      <td>0.666667</td>\n",
       "      <td>1.50</td>\n",
       "      <td>0.000000</td>\n",
       "      <td>2.0</td>\n",
       "      <td>0.0</td>\n",
       "      <td>1.447919</td>\n",
       "      <td>1.525526</td>\n",
       "      <td>1.580241</td>\n",
       "    </tr>\n",
       "    <tr>\n",
       "      <th>4</th>\n",
       "      <td>-0.25</td>\n",
       "      <td>0.333333</td>\n",
       "      <td>0.00</td>\n",
       "      <td>0.000000</td>\n",
       "      <td>0.0</td>\n",
       "      <td>0.0</td>\n",
       "      <td>-0.218303</td>\n",
       "      <td>-0.270270</td>\n",
       "      <td>-0.258776</td>\n",
       "    </tr>\n",
       "    <tr>\n",
       "      <th>...</th>\n",
       "      <td>...</td>\n",
       "      <td>...</td>\n",
       "      <td>...</td>\n",
       "      <td>...</td>\n",
       "      <td>...</td>\n",
       "      <td>...</td>\n",
       "      <td>...</td>\n",
       "      <td>...</td>\n",
       "      <td>...</td>\n",
       "    </tr>\n",
       "    <tr>\n",
       "      <th>174</th>\n",
       "      <td>-0.50</td>\n",
       "      <td>-0.333333</td>\n",
       "      <td>-0.25</td>\n",
       "      <td>0.333333</td>\n",
       "      <td>0.0</td>\n",
       "      <td>0.0</td>\n",
       "      <td>-0.604965</td>\n",
       "      <td>-0.605405</td>\n",
       "      <td>-0.678536</td>\n",
       "    </tr>\n",
       "    <tr>\n",
       "      <th>175</th>\n",
       "      <td>0.00</td>\n",
       "      <td>1.000000</td>\n",
       "      <td>1.50</td>\n",
       "      <td>0.333333</td>\n",
       "      <td>1.0</td>\n",
       "      <td>0.0</td>\n",
       "      <td>-0.097765</td>\n",
       "      <td>0.014414</td>\n",
       "      <td>0.019559</td>\n",
       "    </tr>\n",
       "    <tr>\n",
       "      <th>176</th>\n",
       "      <td>-0.50</td>\n",
       "      <td>-0.333333</td>\n",
       "      <td>-0.25</td>\n",
       "      <td>-0.333333</td>\n",
       "      <td>0.0</td>\n",
       "      <td>0.0</td>\n",
       "      <td>-0.626504</td>\n",
       "      <td>-0.569369</td>\n",
       "      <td>-0.605316</td>\n",
       "    </tr>\n",
       "    <tr>\n",
       "      <th>177</th>\n",
       "      <td>0.25</td>\n",
       "      <td>-0.333333</td>\n",
       "      <td>-0.25</td>\n",
       "      <td>0.333333</td>\n",
       "      <td>0.0</td>\n",
       "      <td>0.0</td>\n",
       "      <td>0.182290</td>\n",
       "      <td>0.220420</td>\n",
       "      <td>0.229188</td>\n",
       "    </tr>\n",
       "    <tr>\n",
       "      <th>178</th>\n",
       "      <td>0.00</td>\n",
       "      <td>0.333333</td>\n",
       "      <td>-0.25</td>\n",
       "      <td>0.333333</td>\n",
       "      <td>0.0</td>\n",
       "      <td>1.0</td>\n",
       "      <td>0.150006</td>\n",
       "      <td>0.163964</td>\n",
       "      <td>0.159980</td>\n",
       "    </tr>\n",
       "  </tbody>\n",
       "</table>\n",
       "<p>179 rows × 9 columns</p>\n",
       "</div>"
      ],
      "text/plain": [
       "     Hospital_Counts  Sales_Counts  Consignment_Counts  Transit_Counts  \\\n",
       "0               0.25      1.333333                0.75       -0.333333   \n",
       "1               0.00      0.666667                0.25       -0.333333   \n",
       "2              -0.25      0.000000               -0.25        0.333333   \n",
       "3               2.50      0.666667                1.50        0.000000   \n",
       "4              -0.25      0.333333                0.00        0.000000   \n",
       "..               ...           ...                 ...             ...   \n",
       "174            -0.50     -0.333333               -0.25        0.333333   \n",
       "175             0.00      1.000000                1.50        0.333333   \n",
       "176            -0.50     -0.333333               -0.25       -0.333333   \n",
       "177             0.25     -0.333333               -0.25        0.333333   \n",
       "178             0.00      0.333333               -0.25        0.333333   \n",
       "\n",
       "     Production_Counts  Import_Counts  Population  Pet_Owners  \\\n",
       "0                  1.0            0.0    0.315401    0.022222   \n",
       "1                  0.0            0.0   -0.184439   -0.007808   \n",
       "2                  0.0            0.0    0.000000    0.000000   \n",
       "3                  2.0            0.0    1.447919    1.525526   \n",
       "4                  0.0            0.0   -0.218303   -0.270270   \n",
       "..                 ...            ...         ...         ...   \n",
       "174                0.0            0.0   -0.604965   -0.605405   \n",
       "175                1.0            0.0   -0.097765    0.014414   \n",
       "176                0.0            0.0   -0.626504   -0.569369   \n",
       "177                0.0            0.0    0.182290    0.220420   \n",
       "178                0.0            1.0    0.150006    0.163964   \n",
       "\n",
       "     Total_Registrations  \n",
       "0               0.027583  \n",
       "1              -0.044132  \n",
       "2              -0.026580  \n",
       "3               1.580241  \n",
       "4              -0.258776  \n",
       "..                   ...  \n",
       "174            -0.678536  \n",
       "175             0.019559  \n",
       "176            -0.605316  \n",
       "177             0.229188  \n",
       "178             0.159980  \n",
       "\n",
       "[179 rows x 9 columns]"
      ]
     },
     "execution_count": 106,
     "metadata": {},
     "output_type": "execute_result"
    }
   ],
   "source": [
    "df_norm.columns = df.columns[2:] #컬럼 통일을 위해 새로 정의된 변수에 컬럼 정리\n",
    "df_norm"
   ]
  },
  {
   "cell_type": "code",
   "execution_count": null,
   "metadata": {},
   "outputs": [],
   "source": [
    "df.iloc[:,2:] = df_norm.iloc[:,:] #정규화된 DataFrame을 기존 DataFrame에 업데이트"
   ]
  },
  {
   "cell_type": "code",
   "execution_count": 107,
   "metadata": {},
   "outputs": [
    {
     "data": {
      "text/html": [
       "<div>\n",
       "<style scoped>\n",
       "    .dataframe tbody tr th:only-of-type {\n",
       "        vertical-align: middle;\n",
       "    }\n",
       "\n",
       "    .dataframe tbody tr th {\n",
       "        vertical-align: top;\n",
       "    }\n",
       "\n",
       "    .dataframe thead th {\n",
       "        text-align: right;\n",
       "    }\n",
       "</style>\n",
       "<table border=\"1\" class=\"dataframe\">\n",
       "  <thead>\n",
       "    <tr style=\"text-align: right;\">\n",
       "      <th></th>\n",
       "      <th>Gu</th>\n",
       "      <th>Dong</th>\n",
       "      <th>Hospital_Counts</th>\n",
       "      <th>Sales_Counts</th>\n",
       "      <th>Consignment_Counts</th>\n",
       "      <th>Transit_Counts</th>\n",
       "      <th>Production_Counts</th>\n",
       "      <th>Import_Counts</th>\n",
       "      <th>Population</th>\n",
       "      <th>Pet_Owners</th>\n",
       "      <th>Total_Registrations</th>\n",
       "    </tr>\n",
       "  </thead>\n",
       "  <tbody>\n",
       "    <tr>\n",
       "      <th>0</th>\n",
       "      <td>영등포구</td>\n",
       "      <td>영등포동</td>\n",
       "      <td>0.25</td>\n",
       "      <td>1.333333</td>\n",
       "      <td>0.75</td>\n",
       "      <td>-0.333333</td>\n",
       "      <td>1.0</td>\n",
       "      <td>0.0</td>\n",
       "      <td>0.315401</td>\n",
       "      <td>0.022222</td>\n",
       "      <td>0.027583</td>\n",
       "    </tr>\n",
       "    <tr>\n",
       "      <th>1</th>\n",
       "      <td>영등포구</td>\n",
       "      <td>여의동</td>\n",
       "      <td>0.00</td>\n",
       "      <td>0.666667</td>\n",
       "      <td>0.25</td>\n",
       "      <td>-0.333333</td>\n",
       "      <td>0.0</td>\n",
       "      <td>0.0</td>\n",
       "      <td>-0.184439</td>\n",
       "      <td>-0.007808</td>\n",
       "      <td>-0.044132</td>\n",
       "    </tr>\n",
       "    <tr>\n",
       "      <th>2</th>\n",
       "      <td>영등포구</td>\n",
       "      <td>양평동</td>\n",
       "      <td>-0.25</td>\n",
       "      <td>0.000000</td>\n",
       "      <td>-0.25</td>\n",
       "      <td>0.333333</td>\n",
       "      <td>0.0</td>\n",
       "      <td>0.0</td>\n",
       "      <td>0.000000</td>\n",
       "      <td>0.000000</td>\n",
       "      <td>-0.026580</td>\n",
       "    </tr>\n",
       "    <tr>\n",
       "      <th>3</th>\n",
       "      <td>영등포구</td>\n",
       "      <td>신길동</td>\n",
       "      <td>2.50</td>\n",
       "      <td>0.666667</td>\n",
       "      <td>1.50</td>\n",
       "      <td>0.000000</td>\n",
       "      <td>2.0</td>\n",
       "      <td>0.0</td>\n",
       "      <td>1.447919</td>\n",
       "      <td>1.525526</td>\n",
       "      <td>1.580241</td>\n",
       "    </tr>\n",
       "    <tr>\n",
       "      <th>4</th>\n",
       "      <td>영등포구</td>\n",
       "      <td>문래동</td>\n",
       "      <td>-0.25</td>\n",
       "      <td>0.333333</td>\n",
       "      <td>0.00</td>\n",
       "      <td>0.000000</td>\n",
       "      <td>0.0</td>\n",
       "      <td>0.0</td>\n",
       "      <td>-0.218303</td>\n",
       "      <td>-0.270270</td>\n",
       "      <td>-0.258776</td>\n",
       "    </tr>\n",
       "  </tbody>\n",
       "</table>\n",
       "</div>"
      ],
      "text/plain": [
       "     Gu  Dong  Hospital_Counts  Sales_Counts  Consignment_Counts  \\\n",
       "0  영등포구  영등포동             0.25      1.333333                0.75   \n",
       "1  영등포구   여의동             0.00      0.666667                0.25   \n",
       "2  영등포구   양평동            -0.25      0.000000               -0.25   \n",
       "3  영등포구   신길동             2.50      0.666667                1.50   \n",
       "4  영등포구   문래동            -0.25      0.333333                0.00   \n",
       "\n",
       "   Transit_Counts  Production_Counts  Import_Counts  Population  Pet_Owners  \\\n",
       "0       -0.333333                1.0            0.0    0.315401    0.022222   \n",
       "1       -0.333333                0.0            0.0   -0.184439   -0.007808   \n",
       "2        0.333333                0.0            0.0    0.000000    0.000000   \n",
       "3        0.000000                2.0            0.0    1.447919    1.525526   \n",
       "4        0.000000                0.0            0.0   -0.218303   -0.270270   \n",
       "\n",
       "   Total_Registrations  \n",
       "0             0.027583  \n",
       "1            -0.044132  \n",
       "2            -0.026580  \n",
       "3             1.580241  \n",
       "4            -0.258776  "
      ]
     },
     "execution_count": 107,
     "metadata": {},
     "output_type": "execute_result"
    }
   ],
   "source": [
    "df.head()"
   ]
  },
  {
   "cell_type": "code",
   "execution_count": 108,
   "metadata": {},
   "outputs": [
    {
     "data": {
      "text/html": [
       "<div>\n",
       "<style scoped>\n",
       "    .dataframe tbody tr th:only-of-type {\n",
       "        vertical-align: middle;\n",
       "    }\n",
       "\n",
       "    .dataframe tbody tr th {\n",
       "        vertical-align: top;\n",
       "    }\n",
       "\n",
       "    .dataframe thead th {\n",
       "        text-align: right;\n",
       "    }\n",
       "</style>\n",
       "<table border=\"1\" class=\"dataframe\">\n",
       "  <thead>\n",
       "    <tr style=\"text-align: right;\">\n",
       "      <th></th>\n",
       "      <th>Gu</th>\n",
       "      <th>Dong</th>\n",
       "      <th>Hospital_Counts</th>\n",
       "      <th>Sales_Counts</th>\n",
       "      <th>Consignment_Counts</th>\n",
       "      <th>Transit_Counts</th>\n",
       "      <th>Production_Counts</th>\n",
       "      <th>Import_Counts</th>\n",
       "      <th>Population</th>\n",
       "      <th>Pet_Owners</th>\n",
       "      <th>Total_Registrations</th>\n",
       "    </tr>\n",
       "  </thead>\n",
       "  <tbody>\n",
       "    <tr>\n",
       "      <th>0</th>\n",
       "      <td>영등포구</td>\n",
       "      <td>영등포동</td>\n",
       "      <td>0.25</td>\n",
       "      <td>1.333333</td>\n",
       "      <td>0.75</td>\n",
       "      <td>-0.333333</td>\n",
       "      <td>1.0</td>\n",
       "      <td>0.0</td>\n",
       "      <td>0.315401</td>\n",
       "      <td>0.022222</td>\n",
       "      <td>0.027583</td>\n",
       "    </tr>\n",
       "    <tr>\n",
       "      <th>8</th>\n",
       "      <td>송파구</td>\n",
       "      <td>풍납동</td>\n",
       "      <td>-0.50</td>\n",
       "      <td>0.333333</td>\n",
       "      <td>0.00</td>\n",
       "      <td>0.666667</td>\n",
       "      <td>1.0</td>\n",
       "      <td>0.0</td>\n",
       "      <td>-0.122910</td>\n",
       "      <td>-0.178979</td>\n",
       "      <td>-0.226179</td>\n",
       "    </tr>\n",
       "    <tr>\n",
       "      <th>20</th>\n",
       "      <td>성북구</td>\n",
       "      <td>종암동</td>\n",
       "      <td>-0.25</td>\n",
       "      <td>-0.333333</td>\n",
       "      <td>0.00</td>\n",
       "      <td>0.333333</td>\n",
       "      <td>0.0</td>\n",
       "      <td>0.0</td>\n",
       "      <td>-0.034927</td>\n",
       "      <td>-0.160961</td>\n",
       "      <td>-0.202608</td>\n",
       "    </tr>\n",
       "    <tr>\n",
       "      <th>30</th>\n",
       "      <td>관악구</td>\n",
       "      <td>신림동</td>\n",
       "      <td>1.75</td>\n",
       "      <td>1.333333</td>\n",
       "      <td>4.50</td>\n",
       "      <td>4.333333</td>\n",
       "      <td>0.0</td>\n",
       "      <td>0.0</td>\n",
       "      <td>5.255724</td>\n",
       "      <td>5.309309</td>\n",
       "      <td>6.220160</td>\n",
       "    </tr>\n",
       "    <tr>\n",
       "      <th>33</th>\n",
       "      <td>광진구</td>\n",
       "      <td>화양동</td>\n",
       "      <td>-0.50</td>\n",
       "      <td>-0.333333</td>\n",
       "      <td>0.00</td>\n",
       "      <td>0.333333</td>\n",
       "      <td>0.0</td>\n",
       "      <td>0.0</td>\n",
       "      <td>-0.334321</td>\n",
       "      <td>-0.392192</td>\n",
       "      <td>-0.418255</td>\n",
       "    </tr>\n",
       "    <tr>\n",
       "      <th>40</th>\n",
       "      <td>서초구</td>\n",
       "      <td>잠원동</td>\n",
       "      <td>0.25</td>\n",
       "      <td>0.333333</td>\n",
       "      <td>0.25</td>\n",
       "      <td>0.000000</td>\n",
       "      <td>0.0</td>\n",
       "      <td>0.0</td>\n",
       "      <td>-0.349883</td>\n",
       "      <td>0.508108</td>\n",
       "      <td>0.508526</td>\n",
       "    </tr>\n",
       "    <tr>\n",
       "      <th>46</th>\n",
       "      <td>노원구</td>\n",
       "      <td>중계동</td>\n",
       "      <td>1.25</td>\n",
       "      <td>1.000000</td>\n",
       "      <td>-0.25</td>\n",
       "      <td>2.000000</td>\n",
       "      <td>0.0</td>\n",
       "      <td>0.0</td>\n",
       "      <td>1.481388</td>\n",
       "      <td>2.508709</td>\n",
       "      <td>1.854062</td>\n",
       "    </tr>\n",
       "    <tr>\n",
       "      <th>50</th>\n",
       "      <td>구로구</td>\n",
       "      <td>오류동</td>\n",
       "      <td>0.00</td>\n",
       "      <td>-0.333333</td>\n",
       "      <td>0.25</td>\n",
       "      <td>-0.333333</td>\n",
       "      <td>1.0</td>\n",
       "      <td>0.0</td>\n",
       "      <td>0.487193</td>\n",
       "      <td>-0.175976</td>\n",
       "      <td>-0.254764</td>\n",
       "    </tr>\n",
       "    <tr>\n",
       "      <th>56</th>\n",
       "      <td>금천구</td>\n",
       "      <td>시흥동</td>\n",
       "      <td>0.75</td>\n",
       "      <td>0.666667</td>\n",
       "      <td>1.75</td>\n",
       "      <td>2.000000</td>\n",
       "      <td>0.0</td>\n",
       "      <td>0.0</td>\n",
       "      <td>1.528690</td>\n",
       "      <td>2.003003</td>\n",
       "      <td>2.114845</td>\n",
       "    </tr>\n",
       "    <tr>\n",
       "      <th>58</th>\n",
       "      <td>강서구</td>\n",
       "      <td>화곡동</td>\n",
       "      <td>3.75</td>\n",
       "      <td>2.000000</td>\n",
       "      <td>5.50</td>\n",
       "      <td>8.000000</td>\n",
       "      <td>1.0</td>\n",
       "      <td>0.0</td>\n",
       "      <td>4.857676</td>\n",
       "      <td>4.741742</td>\n",
       "      <td>5.223170</td>\n",
       "    </tr>\n",
       "    <tr>\n",
       "      <th>66</th>\n",
       "      <td>강남구</td>\n",
       "      <td>청담동</td>\n",
       "      <td>1.75</td>\n",
       "      <td>2.000000</td>\n",
       "      <td>3.00</td>\n",
       "      <td>0.333333</td>\n",
       "      <td>0.0</td>\n",
       "      <td>0.0</td>\n",
       "      <td>-0.402075</td>\n",
       "      <td>-0.082883</td>\n",
       "      <td>-0.073721</td>\n",
       "    </tr>\n",
       "    <tr>\n",
       "      <th>78</th>\n",
       "      <td>강동구</td>\n",
       "      <td>천호동</td>\n",
       "      <td>0.25</td>\n",
       "      <td>3.333333</td>\n",
       "      <td>0.75</td>\n",
       "      <td>2.666667</td>\n",
       "      <td>3.0</td>\n",
       "      <td>0.0</td>\n",
       "      <td>1.112733</td>\n",
       "      <td>0.876276</td>\n",
       "      <td>0.977432</td>\n",
       "    </tr>\n",
       "    <tr>\n",
       "      <th>87</th>\n",
       "      <td>강북구</td>\n",
       "      <td>수유동</td>\n",
       "      <td>0.75</td>\n",
       "      <td>-0.333333</td>\n",
       "      <td>-0.50</td>\n",
       "      <td>-0.333333</td>\n",
       "      <td>0.0</td>\n",
       "      <td>0.0</td>\n",
       "      <td>0.584686</td>\n",
       "      <td>1.637838</td>\n",
       "      <td>1.796891</td>\n",
       "    </tr>\n",
       "    <tr>\n",
       "      <th>90</th>\n",
       "      <td>동작구</td>\n",
       "      <td>흑석동</td>\n",
       "      <td>-0.50</td>\n",
       "      <td>-0.333333</td>\n",
       "      <td>0.00</td>\n",
       "      <td>-0.333333</td>\n",
       "      <td>0.0</td>\n",
       "      <td>0.0</td>\n",
       "      <td>-0.221045</td>\n",
       "      <td>-0.199399</td>\n",
       "      <td>-0.225677</td>\n",
       "    </tr>\n",
       "    <tr>\n",
       "      <th>95</th>\n",
       "      <td>동대문구</td>\n",
       "      <td>휘경동</td>\n",
       "      <td>-0.50</td>\n",
       "      <td>0.000000</td>\n",
       "      <td>0.00</td>\n",
       "      <td>0.333333</td>\n",
       "      <td>0.0</td>\n",
       "      <td>0.0</td>\n",
       "      <td>0.004001</td>\n",
       "      <td>-0.325526</td>\n",
       "      <td>-0.370612</td>\n",
       "    </tr>\n",
       "    <tr>\n",
       "      <th>103</th>\n",
       "      <td>은평구</td>\n",
       "      <td>진관동</td>\n",
       "      <td>0.50</td>\n",
       "      <td>0.666667</td>\n",
       "      <td>0.75</td>\n",
       "      <td>0.666667</td>\n",
       "      <td>0.0</td>\n",
       "      <td>0.0</td>\n",
       "      <td>0.331654</td>\n",
       "      <td>0.413814</td>\n",
       "      <td>0.337513</td>\n",
       "    </tr>\n",
       "    <tr>\n",
       "      <th>114</th>\n",
       "      <td>중구</td>\n",
       "      <td>황학동</td>\n",
       "      <td>-0.25</td>\n",
       "      <td>-0.333333</td>\n",
       "      <td>-0.50</td>\n",
       "      <td>-0.333333</td>\n",
       "      <td>0.0</td>\n",
       "      <td>0.0</td>\n",
       "      <td>-0.680944</td>\n",
       "      <td>-0.569970</td>\n",
       "      <td>-0.589769</td>\n",
       "    </tr>\n",
       "    <tr>\n",
       "      <th>121</th>\n",
       "      <td>종로구</td>\n",
       "      <td>혜화동</td>\n",
       "      <td>-0.75</td>\n",
       "      <td>0.000000</td>\n",
       "      <td>-0.50</td>\n",
       "      <td>-0.333333</td>\n",
       "      <td>0.0</td>\n",
       "      <td>0.0</td>\n",
       "      <td>-0.541954</td>\n",
       "      <td>-0.646246</td>\n",
       "      <td>-0.689569</td>\n",
       "    </tr>\n",
       "    <tr>\n",
       "      <th>129</th>\n",
       "      <td>중랑구</td>\n",
       "      <td>중화동</td>\n",
       "      <td>-0.50</td>\n",
       "      <td>0.666667</td>\n",
       "      <td>-0.25</td>\n",
       "      <td>0.000000</td>\n",
       "      <td>0.0</td>\n",
       "      <td>1.0</td>\n",
       "      <td>0.050735</td>\n",
       "      <td>0.387988</td>\n",
       "      <td>0.207121</td>\n",
       "    </tr>\n",
       "    <tr>\n",
       "      <th>135</th>\n",
       "      <td>용산구</td>\n",
       "      <td>후암동</td>\n",
       "      <td>-0.50</td>\n",
       "      <td>-0.333333</td>\n",
       "      <td>-0.25</td>\n",
       "      <td>-0.333333</td>\n",
       "      <td>0.0</td>\n",
       "      <td>0.0</td>\n",
       "      <td>-0.610547</td>\n",
       "      <td>-0.417417</td>\n",
       "      <td>-0.421264</td>\n",
       "    </tr>\n",
       "    <tr>\n",
       "      <th>145</th>\n",
       "      <td>마포구</td>\n",
       "      <td>합정동</td>\n",
       "      <td>-0.50</td>\n",
       "      <td>-0.333333</td>\n",
       "      <td>-0.25</td>\n",
       "      <td>-0.333333</td>\n",
       "      <td>0.0</td>\n",
       "      <td>0.0</td>\n",
       "      <td>-0.604248</td>\n",
       "      <td>-0.350150</td>\n",
       "      <td>-0.359579</td>\n",
       "    </tr>\n",
       "    <tr>\n",
       "      <th>158</th>\n",
       "      <td>도봉구</td>\n",
       "      <td>창동</td>\n",
       "      <td>1.00</td>\n",
       "      <td>0.000000</td>\n",
       "      <td>2.00</td>\n",
       "      <td>1.333333</td>\n",
       "      <td>0.0</td>\n",
       "      <td>0.0</td>\n",
       "      <td>1.855304</td>\n",
       "      <td>1.490691</td>\n",
       "      <td>1.627382</td>\n",
       "    </tr>\n",
       "    <tr>\n",
       "      <th>162</th>\n",
       "      <td>성동구</td>\n",
       "      <td>행당동</td>\n",
       "      <td>0.75</td>\n",
       "      <td>0.000000</td>\n",
       "      <td>0.75</td>\n",
       "      <td>0.000000</td>\n",
       "      <td>0.0</td>\n",
       "      <td>0.0</td>\n",
       "      <td>-0.106632</td>\n",
       "      <td>0.129129</td>\n",
       "      <td>0.173521</td>\n",
       "    </tr>\n",
       "    <tr>\n",
       "      <th>169</th>\n",
       "      <td>양천구</td>\n",
       "      <td>신정동</td>\n",
       "      <td>2.25</td>\n",
       "      <td>1.000000</td>\n",
       "      <td>3.00</td>\n",
       "      <td>1.333333</td>\n",
       "      <td>0.0</td>\n",
       "      <td>1.0</td>\n",
       "      <td>3.251155</td>\n",
       "      <td>3.309309</td>\n",
       "      <td>3.492477</td>\n",
       "    </tr>\n",
       "    <tr>\n",
       "      <th>172</th>\n",
       "      <td>서대문구</td>\n",
       "      <td>홍제동</td>\n",
       "      <td>-0.25</td>\n",
       "      <td>-0.333333</td>\n",
       "      <td>0.25</td>\n",
       "      <td>0.333333</td>\n",
       "      <td>0.0</td>\n",
       "      <td>1.0</td>\n",
       "      <td>0.363987</td>\n",
       "      <td>0.399399</td>\n",
       "      <td>0.330491</td>\n",
       "    </tr>\n",
       "  </tbody>\n",
       "</table>\n",
       "</div>"
      ],
      "text/plain": [
       "       Gu  Dong  Hospital_Counts  Sales_Counts  Consignment_Counts  \\\n",
       "0    영등포구  영등포동             0.25      1.333333                0.75   \n",
       "8     송파구   풍납동            -0.50      0.333333                0.00   \n",
       "20    성북구   종암동            -0.25     -0.333333                0.00   \n",
       "30    관악구   신림동             1.75      1.333333                4.50   \n",
       "33    광진구   화양동            -0.50     -0.333333                0.00   \n",
       "40    서초구   잠원동             0.25      0.333333                0.25   \n",
       "46    노원구   중계동             1.25      1.000000               -0.25   \n",
       "50    구로구   오류동             0.00     -0.333333                0.25   \n",
       "56    금천구   시흥동             0.75      0.666667                1.75   \n",
       "58    강서구   화곡동             3.75      2.000000                5.50   \n",
       "66    강남구   청담동             1.75      2.000000                3.00   \n",
       "78    강동구   천호동             0.25      3.333333                0.75   \n",
       "87    강북구   수유동             0.75     -0.333333               -0.50   \n",
       "90    동작구   흑석동            -0.50     -0.333333                0.00   \n",
       "95   동대문구   휘경동            -0.50      0.000000                0.00   \n",
       "103   은평구   진관동             0.50      0.666667                0.75   \n",
       "114    중구   황학동            -0.25     -0.333333               -0.50   \n",
       "121   종로구   혜화동            -0.75      0.000000               -0.50   \n",
       "129   중랑구   중화동            -0.50      0.666667               -0.25   \n",
       "135   용산구   후암동            -0.50     -0.333333               -0.25   \n",
       "145   마포구   합정동            -0.50     -0.333333               -0.25   \n",
       "158   도봉구    창동             1.00      0.000000                2.00   \n",
       "162   성동구   행당동             0.75      0.000000                0.75   \n",
       "169   양천구   신정동             2.25      1.000000                3.00   \n",
       "172  서대문구   홍제동            -0.25     -0.333333                0.25   \n",
       "\n",
       "     Transit_Counts  Production_Counts  Import_Counts  Population  Pet_Owners  \\\n",
       "0         -0.333333                1.0            0.0    0.315401    0.022222   \n",
       "8          0.666667                1.0            0.0   -0.122910   -0.178979   \n",
       "20         0.333333                0.0            0.0   -0.034927   -0.160961   \n",
       "30         4.333333                0.0            0.0    5.255724    5.309309   \n",
       "33         0.333333                0.0            0.0   -0.334321   -0.392192   \n",
       "40         0.000000                0.0            0.0   -0.349883    0.508108   \n",
       "46         2.000000                0.0            0.0    1.481388    2.508709   \n",
       "50        -0.333333                1.0            0.0    0.487193   -0.175976   \n",
       "56         2.000000                0.0            0.0    1.528690    2.003003   \n",
       "58         8.000000                1.0            0.0    4.857676    4.741742   \n",
       "66         0.333333                0.0            0.0   -0.402075   -0.082883   \n",
       "78         2.666667                3.0            0.0    1.112733    0.876276   \n",
       "87        -0.333333                0.0            0.0    0.584686    1.637838   \n",
       "90        -0.333333                0.0            0.0   -0.221045   -0.199399   \n",
       "95         0.333333                0.0            0.0    0.004001   -0.325526   \n",
       "103        0.666667                0.0            0.0    0.331654    0.413814   \n",
       "114       -0.333333                0.0            0.0   -0.680944   -0.569970   \n",
       "121       -0.333333                0.0            0.0   -0.541954   -0.646246   \n",
       "129        0.000000                0.0            1.0    0.050735    0.387988   \n",
       "135       -0.333333                0.0            0.0   -0.610547   -0.417417   \n",
       "145       -0.333333                0.0            0.0   -0.604248   -0.350150   \n",
       "158        1.333333                0.0            0.0    1.855304    1.490691   \n",
       "162        0.000000                0.0            0.0   -0.106632    0.129129   \n",
       "169        1.333333                0.0            1.0    3.251155    3.309309   \n",
       "172        0.333333                0.0            1.0    0.363987    0.399399   \n",
       "\n",
       "     Total_Registrations  \n",
       "0               0.027583  \n",
       "8              -0.226179  \n",
       "20             -0.202608  \n",
       "30              6.220160  \n",
       "33             -0.418255  \n",
       "40              0.508526  \n",
       "46              1.854062  \n",
       "50             -0.254764  \n",
       "56              2.114845  \n",
       "58              5.223170  \n",
       "66             -0.073721  \n",
       "78              0.977432  \n",
       "87              1.796891  \n",
       "90             -0.225677  \n",
       "95             -0.370612  \n",
       "103             0.337513  \n",
       "114            -0.589769  \n",
       "121            -0.689569  \n",
       "129             0.207121  \n",
       "135            -0.421264  \n",
       "145            -0.359579  \n",
       "158             1.627382  \n",
       "162             0.173521  \n",
       "169             3.492477  \n",
       "172             0.330491  "
      ]
     },
     "execution_count": 108,
     "metadata": {},
     "output_type": "execute_result"
    }
   ],
   "source": [
    "df_drop = df.drop_duplicates(subset='Gu') # 구별 히트맵 구성을 위해 몇개의 구가 있는지 확인을 위해 임시 변수에 중복된 구를 제거하여 정리\n",
    "df_drop"
   ]
  },
  {
   "cell_type": "code",
   "execution_count": 74,
   "metadata": {},
   "outputs": [],
   "source": [
    "df_yd = df.loc[df['Gu'].str.contains(\"영등포구\"), :] #영등포구 슬라이싱"
   ]
  },
  {
   "cell_type": "code",
   "execution_count": null,
   "metadata": {},
   "outputs": [],
   "source": [
    "# df_yd.drop(columns='Gu',inplace=True)\n",
    "df_yd = df_yd.set_index(\"Dong\") #imshow를 위한 전처리 끝\n",
    "fig = px.imshow(df_yd)\n",
    "fig.show()"
   ]
  },
  {
   "cell_type": "code",
   "execution_count": null,
   "metadata": {},
   "outputs": [],
   "source": [
    "df_sp = df.loc[df['Gu'].str.contains(\"송파구\"), :] #송파구 슬라이싱\n",
    "df_sp = df_sp.set_index(\"Dong\") #index를 'Dong'으로 처리\n",
    "fig = px.imshow(df_sp)\n",
    "fig.show()"
   ]
  },
  {
   "cell_type": "code",
   "execution_count": null,
   "metadata": {},
   "outputs": [],
   "source": [
    "df_sp = df.loc[df['Gu'].str.contains(\"송파구\"), :] #송파구 슬라이싱\n",
    "df_sp = df_sp.set_index(\"Dong\") #index를 'Dong'으로 처리\n",
    "fig = px.imshow(df_sp)\n",
    "fig.show()"
   ]
  },
  {
   "cell_type": "code",
   "execution_count": 105,
   "metadata": {},
   "outputs": [
    {
     "data": {
      "application/vnd.plotly.v1+json": {
       "config": {
        "plotlyServerURL": "https://plot.ly"
       },
       "data": [
        {
         "coloraxis": "coloraxis",
         "hovertemplate": "x: %{x}<br>Dong: %{y}<br>color: %{z}<extra></extra>",
         "name": "0",
         "type": "heatmap",
         "x": [
          "Gu",
          "Hospital_Counts",
          "Sales_Counts",
          "Consignment_Counts",
          "Transit_Counts",
          "Production_Counts",
          "Import_Counts",
          "Population",
          "Pet_Owners",
          "Total_Registrations"
         ],
         "xaxis": "x",
         "y": [
          "홍제동",
          "홍은동",
          "천연동",
          "연희동",
          "북아현동",
          "북가좌동",
          "남가좌동"
         ],
         "yaxis": "y",
         "z": [
          [
           "서대문구",
           -0.25,
           -0.3333333333333333,
           0.25,
           0.3333333333333333,
           0,
           1,
           0.3639866617265654,
           0.3993993993993994,
           0.3304914744232698
          ],
          [
           "서대문구",
           -0.25,
           0.3333333333333333,
           0,
           0.3333333333333333,
           0,
           0,
           0.259676423366679,
           0.2924924924924925,
           0.2271815446339017
          ],
          [
           "서대문구",
           -0.5,
           -0.3333333333333333,
           -0.25,
           0.3333333333333333,
           0,
           0,
           -0.6049648017784365,
           -0.6054054054054054,
           -0.6785356068204614
          ],
          [
           "서대문구",
           0,
           1,
           1.5,
           0.3333333333333333,
           1,
           0,
           -0.09776460417438558,
           0.014414414414414415,
           0.019558676028084254
          ],
          [
           "서대문구",
           -0.5,
           -0.3333333333333333,
           -0.25,
           -0.3333333333333333,
           0,
           0,
           -0.6265036433246881,
           -0.5693693693693693,
           -0.6053159478435306
          ],
          [
           "서대문구",
           0.25,
           -0.3333333333333333,
           -0.25,
           0.3333333333333333,
           0,
           0,
           0.18228973693960726,
           0.22042042042042043,
           0.2291875626880642
          ],
          [
           "서대문구",
           0,
           0.3333333333333333,
           -0.25,
           0.3333333333333333,
           0,
           1,
           0.1500061751265901,
           0.16396396396396395,
           0.15997993981945838
          ]
         ]
        }
       ],
       "layout": {
        "coloraxis": {
         "colorscale": [
          [
           0,
           "#0d0887"
          ],
          [
           0.1111111111111111,
           "#46039f"
          ],
          [
           0.2222222222222222,
           "#7201a8"
          ],
          [
           0.3333333333333333,
           "#9c179e"
          ],
          [
           0.4444444444444444,
           "#bd3786"
          ],
          [
           0.5555555555555556,
           "#d8576b"
          ],
          [
           0.6666666666666666,
           "#ed7953"
          ],
          [
           0.7777777777777778,
           "#fb9f3a"
          ],
          [
           0.8888888888888888,
           "#fdca26"
          ],
          [
           1,
           "#f0f921"
          ]
         ]
        },
        "margin": {
         "t": 60
        },
        "template": {
         "data": {
          "bar": [
           {
            "error_x": {
             "color": "#2a3f5f"
            },
            "error_y": {
             "color": "#2a3f5f"
            },
            "marker": {
             "line": {
              "color": "#E5ECF6",
              "width": 0.5
             },
             "pattern": {
              "fillmode": "overlay",
              "size": 10,
              "solidity": 0.2
             }
            },
            "type": "bar"
           }
          ],
          "barpolar": [
           {
            "marker": {
             "line": {
              "color": "#E5ECF6",
              "width": 0.5
             },
             "pattern": {
              "fillmode": "overlay",
              "size": 10,
              "solidity": 0.2
             }
            },
            "type": "barpolar"
           }
          ],
          "carpet": [
           {
            "aaxis": {
             "endlinecolor": "#2a3f5f",
             "gridcolor": "white",
             "linecolor": "white",
             "minorgridcolor": "white",
             "startlinecolor": "#2a3f5f"
            },
            "baxis": {
             "endlinecolor": "#2a3f5f",
             "gridcolor": "white",
             "linecolor": "white",
             "minorgridcolor": "white",
             "startlinecolor": "#2a3f5f"
            },
            "type": "carpet"
           }
          ],
          "choropleth": [
           {
            "colorbar": {
             "outlinewidth": 0,
             "ticks": ""
            },
            "type": "choropleth"
           }
          ],
          "contour": [
           {
            "colorbar": {
             "outlinewidth": 0,
             "ticks": ""
            },
            "colorscale": [
             [
              0,
              "#0d0887"
             ],
             [
              0.1111111111111111,
              "#46039f"
             ],
             [
              0.2222222222222222,
              "#7201a8"
             ],
             [
              0.3333333333333333,
              "#9c179e"
             ],
             [
              0.4444444444444444,
              "#bd3786"
             ],
             [
              0.5555555555555556,
              "#d8576b"
             ],
             [
              0.6666666666666666,
              "#ed7953"
             ],
             [
              0.7777777777777778,
              "#fb9f3a"
             ],
             [
              0.8888888888888888,
              "#fdca26"
             ],
             [
              1,
              "#f0f921"
             ]
            ],
            "type": "contour"
           }
          ],
          "contourcarpet": [
           {
            "colorbar": {
             "outlinewidth": 0,
             "ticks": ""
            },
            "type": "contourcarpet"
           }
          ],
          "heatmap": [
           {
            "colorbar": {
             "outlinewidth": 0,
             "ticks": ""
            },
            "colorscale": [
             [
              0,
              "#0d0887"
             ],
             [
              0.1111111111111111,
              "#46039f"
             ],
             [
              0.2222222222222222,
              "#7201a8"
             ],
             [
              0.3333333333333333,
              "#9c179e"
             ],
             [
              0.4444444444444444,
              "#bd3786"
             ],
             [
              0.5555555555555556,
              "#d8576b"
             ],
             [
              0.6666666666666666,
              "#ed7953"
             ],
             [
              0.7777777777777778,
              "#fb9f3a"
             ],
             [
              0.8888888888888888,
              "#fdca26"
             ],
             [
              1,
              "#f0f921"
             ]
            ],
            "type": "heatmap"
           }
          ],
          "heatmapgl": [
           {
            "colorbar": {
             "outlinewidth": 0,
             "ticks": ""
            },
            "colorscale": [
             [
              0,
              "#0d0887"
             ],
             [
              0.1111111111111111,
              "#46039f"
             ],
             [
              0.2222222222222222,
              "#7201a8"
             ],
             [
              0.3333333333333333,
              "#9c179e"
             ],
             [
              0.4444444444444444,
              "#bd3786"
             ],
             [
              0.5555555555555556,
              "#d8576b"
             ],
             [
              0.6666666666666666,
              "#ed7953"
             ],
             [
              0.7777777777777778,
              "#fb9f3a"
             ],
             [
              0.8888888888888888,
              "#fdca26"
             ],
             [
              1,
              "#f0f921"
             ]
            ],
            "type": "heatmapgl"
           }
          ],
          "histogram": [
           {
            "marker": {
             "pattern": {
              "fillmode": "overlay",
              "size": 10,
              "solidity": 0.2
             }
            },
            "type": "histogram"
           }
          ],
          "histogram2d": [
           {
            "colorbar": {
             "outlinewidth": 0,
             "ticks": ""
            },
            "colorscale": [
             [
              0,
              "#0d0887"
             ],
             [
              0.1111111111111111,
              "#46039f"
             ],
             [
              0.2222222222222222,
              "#7201a8"
             ],
             [
              0.3333333333333333,
              "#9c179e"
             ],
             [
              0.4444444444444444,
              "#bd3786"
             ],
             [
              0.5555555555555556,
              "#d8576b"
             ],
             [
              0.6666666666666666,
              "#ed7953"
             ],
             [
              0.7777777777777778,
              "#fb9f3a"
             ],
             [
              0.8888888888888888,
              "#fdca26"
             ],
             [
              1,
              "#f0f921"
             ]
            ],
            "type": "histogram2d"
           }
          ],
          "histogram2dcontour": [
           {
            "colorbar": {
             "outlinewidth": 0,
             "ticks": ""
            },
            "colorscale": [
             [
              0,
              "#0d0887"
             ],
             [
              0.1111111111111111,
              "#46039f"
             ],
             [
              0.2222222222222222,
              "#7201a8"
             ],
             [
              0.3333333333333333,
              "#9c179e"
             ],
             [
              0.4444444444444444,
              "#bd3786"
             ],
             [
              0.5555555555555556,
              "#d8576b"
             ],
             [
              0.6666666666666666,
              "#ed7953"
             ],
             [
              0.7777777777777778,
              "#fb9f3a"
             ],
             [
              0.8888888888888888,
              "#fdca26"
             ],
             [
              1,
              "#f0f921"
             ]
            ],
            "type": "histogram2dcontour"
           }
          ],
          "mesh3d": [
           {
            "colorbar": {
             "outlinewidth": 0,
             "ticks": ""
            },
            "type": "mesh3d"
           }
          ],
          "parcoords": [
           {
            "line": {
             "colorbar": {
              "outlinewidth": 0,
              "ticks": ""
             }
            },
            "type": "parcoords"
           }
          ],
          "pie": [
           {
            "automargin": true,
            "type": "pie"
           }
          ],
          "scatter": [
           {
            "fillpattern": {
             "fillmode": "overlay",
             "size": 10,
             "solidity": 0.2
            },
            "type": "scatter"
           }
          ],
          "scatter3d": [
           {
            "line": {
             "colorbar": {
              "outlinewidth": 0,
              "ticks": ""
             }
            },
            "marker": {
             "colorbar": {
              "outlinewidth": 0,
              "ticks": ""
             }
            },
            "type": "scatter3d"
           }
          ],
          "scattercarpet": [
           {
            "marker": {
             "colorbar": {
              "outlinewidth": 0,
              "ticks": ""
             }
            },
            "type": "scattercarpet"
           }
          ],
          "scattergeo": [
           {
            "marker": {
             "colorbar": {
              "outlinewidth": 0,
              "ticks": ""
             }
            },
            "type": "scattergeo"
           }
          ],
          "scattergl": [
           {
            "marker": {
             "colorbar": {
              "outlinewidth": 0,
              "ticks": ""
             }
            },
            "type": "scattergl"
           }
          ],
          "scattermapbox": [
           {
            "marker": {
             "colorbar": {
              "outlinewidth": 0,
              "ticks": ""
             }
            },
            "type": "scattermapbox"
           }
          ],
          "scatterpolar": [
           {
            "marker": {
             "colorbar": {
              "outlinewidth": 0,
              "ticks": ""
             }
            },
            "type": "scatterpolar"
           }
          ],
          "scatterpolargl": [
           {
            "marker": {
             "colorbar": {
              "outlinewidth": 0,
              "ticks": ""
             }
            },
            "type": "scatterpolargl"
           }
          ],
          "scatterternary": [
           {
            "marker": {
             "colorbar": {
              "outlinewidth": 0,
              "ticks": ""
             }
            },
            "type": "scatterternary"
           }
          ],
          "surface": [
           {
            "colorbar": {
             "outlinewidth": 0,
             "ticks": ""
            },
            "colorscale": [
             [
              0,
              "#0d0887"
             ],
             [
              0.1111111111111111,
              "#46039f"
             ],
             [
              0.2222222222222222,
              "#7201a8"
             ],
             [
              0.3333333333333333,
              "#9c179e"
             ],
             [
              0.4444444444444444,
              "#bd3786"
             ],
             [
              0.5555555555555556,
              "#d8576b"
             ],
             [
              0.6666666666666666,
              "#ed7953"
             ],
             [
              0.7777777777777778,
              "#fb9f3a"
             ],
             [
              0.8888888888888888,
              "#fdca26"
             ],
             [
              1,
              "#f0f921"
             ]
            ],
            "type": "surface"
           }
          ],
          "table": [
           {
            "cells": {
             "fill": {
              "color": "#EBF0F8"
             },
             "line": {
              "color": "white"
             }
            },
            "header": {
             "fill": {
              "color": "#C8D4E3"
             },
             "line": {
              "color": "white"
             }
            },
            "type": "table"
           }
          ]
         },
         "layout": {
          "annotationdefaults": {
           "arrowcolor": "#2a3f5f",
           "arrowhead": 0,
           "arrowwidth": 1
          },
          "autotypenumbers": "strict",
          "coloraxis": {
           "colorbar": {
            "outlinewidth": 0,
            "ticks": ""
           }
          },
          "colorscale": {
           "diverging": [
            [
             0,
             "#8e0152"
            ],
            [
             0.1,
             "#c51b7d"
            ],
            [
             0.2,
             "#de77ae"
            ],
            [
             0.3,
             "#f1b6da"
            ],
            [
             0.4,
             "#fde0ef"
            ],
            [
             0.5,
             "#f7f7f7"
            ],
            [
             0.6,
             "#e6f5d0"
            ],
            [
             0.7,
             "#b8e186"
            ],
            [
             0.8,
             "#7fbc41"
            ],
            [
             0.9,
             "#4d9221"
            ],
            [
             1,
             "#276419"
            ]
           ],
           "sequential": [
            [
             0,
             "#0d0887"
            ],
            [
             0.1111111111111111,
             "#46039f"
            ],
            [
             0.2222222222222222,
             "#7201a8"
            ],
            [
             0.3333333333333333,
             "#9c179e"
            ],
            [
             0.4444444444444444,
             "#bd3786"
            ],
            [
             0.5555555555555556,
             "#d8576b"
            ],
            [
             0.6666666666666666,
             "#ed7953"
            ],
            [
             0.7777777777777778,
             "#fb9f3a"
            ],
            [
             0.8888888888888888,
             "#fdca26"
            ],
            [
             1,
             "#f0f921"
            ]
           ],
           "sequentialminus": [
            [
             0,
             "#0d0887"
            ],
            [
             0.1111111111111111,
             "#46039f"
            ],
            [
             0.2222222222222222,
             "#7201a8"
            ],
            [
             0.3333333333333333,
             "#9c179e"
            ],
            [
             0.4444444444444444,
             "#bd3786"
            ],
            [
             0.5555555555555556,
             "#d8576b"
            ],
            [
             0.6666666666666666,
             "#ed7953"
            ],
            [
             0.7777777777777778,
             "#fb9f3a"
            ],
            [
             0.8888888888888888,
             "#fdca26"
            ],
            [
             1,
             "#f0f921"
            ]
           ]
          },
          "colorway": [
           "#636efa",
           "#EF553B",
           "#00cc96",
           "#ab63fa",
           "#FFA15A",
           "#19d3f3",
           "#FF6692",
           "#B6E880",
           "#FF97FF",
           "#FECB52"
          ],
          "font": {
           "color": "#2a3f5f"
          },
          "geo": {
           "bgcolor": "white",
           "lakecolor": "white",
           "landcolor": "#E5ECF6",
           "showlakes": true,
           "showland": true,
           "subunitcolor": "white"
          },
          "hoverlabel": {
           "align": "left"
          },
          "hovermode": "closest",
          "mapbox": {
           "style": "light"
          },
          "paper_bgcolor": "white",
          "plot_bgcolor": "#E5ECF6",
          "polar": {
           "angularaxis": {
            "gridcolor": "white",
            "linecolor": "white",
            "ticks": ""
           },
           "bgcolor": "#E5ECF6",
           "radialaxis": {
            "gridcolor": "white",
            "linecolor": "white",
            "ticks": ""
           }
          },
          "scene": {
           "xaxis": {
            "backgroundcolor": "#E5ECF6",
            "gridcolor": "white",
            "gridwidth": 2,
            "linecolor": "white",
            "showbackground": true,
            "ticks": "",
            "zerolinecolor": "white"
           },
           "yaxis": {
            "backgroundcolor": "#E5ECF6",
            "gridcolor": "white",
            "gridwidth": 2,
            "linecolor": "white",
            "showbackground": true,
            "ticks": "",
            "zerolinecolor": "white"
           },
           "zaxis": {
            "backgroundcolor": "#E5ECF6",
            "gridcolor": "white",
            "gridwidth": 2,
            "linecolor": "white",
            "showbackground": true,
            "ticks": "",
            "zerolinecolor": "white"
           }
          },
          "shapedefaults": {
           "line": {
            "color": "#2a3f5f"
           }
          },
          "ternary": {
           "aaxis": {
            "gridcolor": "white",
            "linecolor": "white",
            "ticks": ""
           },
           "baxis": {
            "gridcolor": "white",
            "linecolor": "white",
            "ticks": ""
           },
           "bgcolor": "#E5ECF6",
           "caxis": {
            "gridcolor": "white",
            "linecolor": "white",
            "ticks": ""
           }
          },
          "title": {
           "x": 0.05
          },
          "xaxis": {
           "automargin": true,
           "gridcolor": "white",
           "linecolor": "white",
           "ticks": "",
           "title": {
            "standoff": 15
           },
           "zerolinecolor": "white",
           "zerolinewidth": 2
          },
          "yaxis": {
           "automargin": true,
           "gridcolor": "white",
           "linecolor": "white",
           "ticks": "",
           "title": {
            "standoff": 15
           },
           "zerolinecolor": "white",
           "zerolinewidth": 2
          }
         }
        },
        "xaxis": {
         "anchor": "y",
         "constrain": "domain",
         "domain": [
          0,
          1
         ],
         "scaleanchor": "y"
        },
        "yaxis": {
         "anchor": "x",
         "autorange": "reversed",
         "constrain": "domain",
         "domain": [
          0,
          1
         ],
         "title": {
          "text": "Dong"
         }
        }
       }
      }
     },
     "metadata": {},
     "output_type": "display_data"
    },
    {
     "name": "stdout",
     "output_type": "stream",
     "text": [
      "c:\\Users\\leoki\\Desktop\\Python3\\mulcam\\미니프로젝트\n"
     ]
    }
   ],
   "source": [
    "#계속 똑같은 작업이 이어지기에 함수로 만듬\n",
    "\n",
    "import plotly.io as pio\n",
    "import plotly.express as px\n",
    "\n",
    "def heatmap_gen(df, gu_name, file_name):\n",
    "    df_sp = df.loc[df['Gu'].str.contains(gu_name), :]  # 해당 구 데이터 추출\n",
    "    df_sp = df_sp.set_index(\"Dong\")  # 인덱스를 'Dong'으로 설정\n",
    "    fig = px.imshow(df_sp)  # 데이터프레임 시각화\n",
    "    fig.show()  # 시각화 출력\n",
    "    \n",
    "    # png 파일로 저장\n",
    "    pio.write_image(fig, file_name + \".png\")\n",
    "\n",
    "# 예시: 송파구 데이터 시각화 및 png 파일로 저장\n",
    "heatmap_gen(df, \"서대문구\", \"서대문구_시각화\")\n",
    "\n",
    "import os\n",
    "print(os.getcwd())\n",
    "\n",
    "\n"
   ]
  },
  {
   "cell_type": "code",
   "execution_count": null,
   "metadata": {},
   "outputs": [],
   "source": []
  },
  {
   "cell_type": "code",
   "execution_count": null,
   "metadata": {},
   "outputs": [],
   "source": []
  },
  {
   "cell_type": "code",
   "execution_count": null,
   "metadata": {},
   "outputs": [],
   "source": []
  },
  {
   "cell_type": "code",
   "execution_count": null,
   "metadata": {},
   "outputs": [],
   "source": []
  },
  {
   "cell_type": "code",
   "execution_count": null,
   "metadata": {},
   "outputs": [],
   "source": []
  },
  {
   "cell_type": "code",
   "execution_count": null,
   "metadata": {},
   "outputs": [],
   "source": []
  },
  {
   "cell_type": "code",
   "execution_count": null,
   "metadata": {},
   "outputs": [],
   "source": []
  },
  {
   "cell_type": "code",
   "execution_count": null,
   "metadata": {},
   "outputs": [],
   "source": []
  },
  {
   "cell_type": "code",
   "execution_count": null,
   "metadata": {},
   "outputs": [],
   "source": []
  },
  {
   "cell_type": "code",
   "execution_count": null,
   "metadata": {},
   "outputs": [],
   "source": []
  },
  {
   "cell_type": "code",
   "execution_count": null,
   "metadata": {},
   "outputs": [],
   "source": []
  },
  {
   "cell_type": "code",
   "execution_count": null,
   "metadata": {},
   "outputs": [],
   "source": []
  }
 ],
 "metadata": {
  "kernelspec": {
   "display_name": "Python 3",
   "language": "python",
   "name": "python3"
  },
  "language_info": {
   "codemirror_mode": {
    "name": "ipython",
    "version": 3
   },
   "file_extension": ".py",
   "mimetype": "text/x-python",
   "name": "python",
   "nbconvert_exporter": "python",
   "pygments_lexer": "ipython3",
   "version": "3.12.3"
  }
 },
 "nbformat": 4,
 "nbformat_minor": 2
}
