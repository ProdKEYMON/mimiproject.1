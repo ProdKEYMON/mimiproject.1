{
 "cells": [
  {
   "cell_type": "code",
   "execution_count": 2,
   "metadata": {},
   "outputs": [],
   "source": [
    "import pandas as pd\n",
    "import numpy as np"
   ]
  },
  {
   "cell_type": "markdown",
   "metadata": {},
   "source": [
    "광진구 데이터 전처리"
   ]
  },
  {
   "cell_type": "code",
   "execution_count": 8,
   "metadata": {},
   "outputs": [],
   "source": [
    "#광진구 데이터 불러오기\n",
    "path = './datas/서울특별시_광진구_반려동물 등록현황_20240312.csv'\n",
    "raw = pd.read_csv(path, encoding= 'cp949')"
   ]
  },
  {
   "cell_type": "code",
   "execution_count": 16,
   "metadata": {},
   "outputs": [],
   "source": [
    "#원본데이터 보호\n",
    "gj_df = raw.copy()"
   ]
  },
  {
   "cell_type": "code",
   "execution_count": 50,
   "metadata": {},
   "outputs": [],
   "source": [
    "# 데이터 탐색 및 열 이름 정보 확인\n",
    "#print(gj_df.head(3))\n",
    "#print(gj_df.columns)\n",
    "\n",
    "#바꿀 컬럼명 추출\n",
    "columns = ['읍면동(법정동)','동물소유자수']\n",
    "gj_new = gj_df[columns]\n",
    "gj_new = gj_new.rename(columns = {'읍면동(법정동)':'Dong','동물소유자수':'Pet_Owners'})"
   ]
  },
  {
   "cell_type": "code",
   "execution_count": null,
   "metadata": {},
   "outputs": [],
   "source": [
    "# 데이터 확인\n",
    "# print(gj_new_columns)"
   ]
  },
  {
   "cell_type": "code",
   "execution_count": null,
   "metadata": {},
   "outputs": [],
   "source": [
    "# 동물등록수 컬럼간 연산\n",
    "#print(raw)\n",
    "# RFID종류들 합\n",
    "\n",
    "gj_new['Total_Registrations'] = np.sum(gj_df[['RFID종류(내장형)','RFID종류(외장형)','RFID종류(인식표)']], axis=1)\n",
    "#새 컬럼 추가\n",
    "gj_new['Gu'] = '광진구'\n",
    "#컬럼 순서 정렬\n",
    "gj_new = gj_new[['Gu', 'Dong', 'Pet_Owners','Total_Registrations']]\n",
    "print(gj_new)\n"
   ]
  },
  {
   "cell_type": "code",
   "execution_count": 37,
   "metadata": {},
   "outputs": [],
   "source": [
    "#전처리 완료 데이터 저장\n",
    "gj_new.to_csv('gwangjin_김원_v1.csv')"
   ]
  },
  {
   "cell_type": "markdown",
   "metadata": {},
   "source": [
    "구로구 데이터 전처리"
   ]
  },
  {
   "cell_type": "code",
   "execution_count": null,
   "metadata": {},
   "outputs": [],
   "source": [
    "#데이터 불러오기\n",
    "raw_gr = pd.read_csv('./datas/서울특별시_구로구_법정동별 동물등록 현황_20230427.csv', encoding= 'cp949')\n",
    "#데이터 원본보호\n",
    "gr_df = raw_gr.copy()\n",
    "#데이터 확인 Head(3)\n",
    "gr_df.head(3)\n"
   ]
  },
  {
   "cell_type": "code",
   "execution_count": null,
   "metadata": {},
   "outputs": [],
   "source": [
    "#컬럼명 변경\n",
    "columns = ['법정동', '동물소유자수']\n",
    "gr_new = gr_df[columns]\n",
    "gr_new = gr_new.rename(columns={'법정동':'Dong', '동물소유자수':'Pet_Owners'})\n",
    "#확인\n",
    "gr_new"
   ]
  },
  {
   "cell_type": "code",
   "execution_count": null,
   "metadata": {},
   "outputs": [],
   "source": [
    "#결측치 (총개체수) 연산 후 새로운 컬럼에 넣기\n",
    "gr_new['Total_Registrations']= np.sum(gr_df[['내장형(RFID)','외장형(RFID)','인식표']], axis=1)\n",
    "gr_new"
   ]
  },
  {
   "cell_type": "code",
   "execution_count": 77,
   "metadata": {},
   "outputs": [],
   "source": [
    "#새로운 컬럼 과 Value 넣어서 새로 정렬\n",
    "gr_new['Gu'] = '구로구'\n",
    "gr_new = gr_new[['Gu', 'Dong', 'Pet_Owners','Total_Registrations']]\n",
    "#확인\n",
    "gr_new.head(1)\n",
    "#CSV 파일 쓰기\n",
    "gr_new.to_csv('guro_김원_v1.csv')"
   ]
  },
  {
   "cell_type": "markdown",
   "metadata": {},
   "source": [
    "금천구 데이터 전처리"
   ]
  },
  {
   "cell_type": "code",
   "execution_count": 81,
   "metadata": {},
   "outputs": [],
   "source": [
    "#파일 불러오기\n",
    "raw_gc = pd.read_csv('./datas/서울특별시_금천구_반려동물 등록 현황 및 등록 인구 수_20240214.csv', encoding= 'cp949')"
   ]
  },
  {
   "cell_type": "code",
   "execution_count": 83,
   "metadata": {},
   "outputs": [
    {
     "data": {
      "text/html": [
       "<div>\n",
       "<style scoped>\n",
       "    .dataframe tbody tr th:only-of-type {\n",
       "        vertical-align: middle;\n",
       "    }\n",
       "\n",
       "    .dataframe tbody tr th {\n",
       "        vertical-align: top;\n",
       "    }\n",
       "\n",
       "    .dataframe thead th {\n",
       "        text-align: right;\n",
       "    }\n",
       "</style>\n",
       "<table border=\"1\" class=\"dataframe\">\n",
       "  <thead>\n",
       "    <tr style=\"text-align: right;\">\n",
       "      <th></th>\n",
       "      <th>법정동</th>\n",
       "      <th>동물소유자수(전체)</th>\n",
       "      <th>개체수(전체)</th>\n",
       "      <th>동물소유자수(개)</th>\n",
       "      <th>개체수(개)</th>\n",
       "      <th>동물소유자수(고양이)</th>\n",
       "      <th>개체수(고양이)</th>\n",
       "      <th>비고</th>\n",
       "      <th>데이터 기준일자</th>\n",
       "    </tr>\n",
       "  </thead>\n",
       "  <tbody>\n",
       "    <tr>\n",
       "      <th>0</th>\n",
       "      <td>가산동</td>\n",
       "      <td>912</td>\n",
       "      <td>1139</td>\n",
       "      <td>882</td>\n",
       "      <td>1106</td>\n",
       "      <td>31</td>\n",
       "      <td>33</td>\n",
       "      <td>동물보호관리시스템 통계로서 축종별 통계를 합산한 전체 통계에 미세한 불일치 있음</td>\n",
       "      <td>2024-02-14</td>\n",
       "    </tr>\n",
       "    <tr>\n",
       "      <th>1</th>\n",
       "      <td>독산동</td>\n",
       "      <td>4709</td>\n",
       "      <td>6044</td>\n",
       "      <td>4643</td>\n",
       "      <td>5954</td>\n",
       "      <td>73</td>\n",
       "      <td>90</td>\n",
       "      <td>동물보호관리시스템 통계로서 축종별 통계를 합산한 전체 통계에 미세한 불일치 있음</td>\n",
       "      <td>2024-02-14</td>\n",
       "    </tr>\n",
       "    <tr>\n",
       "      <th>2</th>\n",
       "      <td>시흥동</td>\n",
       "      <td>5007</td>\n",
       "      <td>6369</td>\n",
       "      <td>4961</td>\n",
       "      <td>6297</td>\n",
       "      <td>53</td>\n",
       "      <td>72</td>\n",
       "      <td>동물보호관리시스템 통계로서 축종별 통계를 합산한 전체 통계에 미세한 불일치 있음</td>\n",
       "      <td>2024-02-14</td>\n",
       "    </tr>\n",
       "  </tbody>\n",
       "</table>\n",
       "</div>"
      ],
      "text/plain": [
       "   법정동  동물소유자수(전체)  개체수(전체)  동물소유자수(개)  개체수(개)  동물소유자수(고양이)  개체수(고양이)  \\\n",
       "0  가산동         912     1139        882    1106           31        33   \n",
       "1  독산동        4709     6044       4643    5954           73        90   \n",
       "2  시흥동        5007     6369       4961    6297           53        72   \n",
       "\n",
       "                                             비고    데이터 기준일자  \n",
       "0  동물보호관리시스템 통계로서 축종별 통계를 합산한 전체 통계에 미세한 불일치 있음  2024-02-14  \n",
       "1  동물보호관리시스템 통계로서 축종별 통계를 합산한 전체 통계에 미세한 불일치 있음  2024-02-14  \n",
       "2  동물보호관리시스템 통계로서 축종별 통계를 합산한 전체 통계에 미세한 불일치 있음  2024-02-14  "
      ]
     },
     "execution_count": 83,
     "metadata": {},
     "output_type": "execute_result"
    }
   ],
   "source": [
    "#원본 데이터 보호\n",
    "gc_df = raw_gc.copy()\n",
    "gc_df"
   ]
  },
  {
   "cell_type": "code",
   "execution_count": 97,
   "metadata": {},
   "outputs": [
    {
     "data": {
      "text/html": [
       "<div>\n",
       "<style scoped>\n",
       "    .dataframe tbody tr th:only-of-type {\n",
       "        vertical-align: middle;\n",
       "    }\n",
       "\n",
       "    .dataframe tbody tr th {\n",
       "        vertical-align: top;\n",
       "    }\n",
       "\n",
       "    .dataframe thead th {\n",
       "        text-align: right;\n",
       "    }\n",
       "</style>\n",
       "<table border=\"1\" class=\"dataframe\">\n",
       "  <thead>\n",
       "    <tr style=\"text-align: right;\">\n",
       "      <th></th>\n",
       "      <th>Dong</th>\n",
       "      <th>Pet_Owners</th>\n",
       "      <th>Total_Registrations</th>\n",
       "    </tr>\n",
       "  </thead>\n",
       "  <tbody>\n",
       "    <tr>\n",
       "      <th>0</th>\n",
       "      <td>가산동</td>\n",
       "      <td>912</td>\n",
       "      <td>1139</td>\n",
       "    </tr>\n",
       "    <tr>\n",
       "      <th>1</th>\n",
       "      <td>독산동</td>\n",
       "      <td>4709</td>\n",
       "      <td>6044</td>\n",
       "    </tr>\n",
       "    <tr>\n",
       "      <th>2</th>\n",
       "      <td>시흥동</td>\n",
       "      <td>5007</td>\n",
       "      <td>6369</td>\n",
       "    </tr>\n",
       "  </tbody>\n",
       "</table>\n",
       "</div>"
      ],
      "text/plain": [
       "  Dong  Pet_Owners  Total_Registrations\n",
       "0  가산동         912                 1139\n",
       "1  독산동        4709                 6044\n",
       "2  시흥동        5007                 6369"
      ]
     },
     "execution_count": 97,
     "metadata": {},
     "output_type": "execute_result"
    }
   ],
   "source": [
    "#컬럼명 변경\n",
    "columns = ['법정동','동물소유자수(전체)','개체수(전체)']\n",
    "gc_new = gc_df[columns]\n",
    "gc_new = gc_new.rename(columns={'법정동':'Dong', '동물소유자수(전체)':'Pet_Owners','개체수(전체)':'Total_Registrations'})"
   ]
  },
  {
   "cell_type": "code",
   "execution_count": 105,
   "metadata": {},
   "outputs": [],
   "source": [
    "#컬럼 추가\n",
    "gc_new['Gu'] = '구로구'\n",
    "#컬럼 정렬\n",
    "gc_new = gc_new[['Gu','Dong','Pet_Owners','Total_Registrations']]\n",
    "#파일 추출\n",
    "gc_new.to_csv('gumcheon_김원_v1.csv')"
   ]
  },
  {
   "cell_type": "markdown",
   "metadata": {},
   "source": [
    "노원구 데이터 전처리"
   ]
  },
  {
   "cell_type": "code",
   "execution_count": null,
   "metadata": {},
   "outputs": [],
   "source": [
    "#데이터 불러오기\n",
    "raw_nw = pd.read_csv('./datas/서울특별시_노원구_반려동물현황_20220828.csv', encoding='cp949')\n",
    "#데이터 원본 보호\n",
    "nw_df = raw_nw.copy()\n",
    "nw_df.head(1)"
   ]
  },
  {
   "cell_type": "code",
   "execution_count": null,
   "metadata": {},
   "outputs": [],
   "source": [
    "#컬럼명 변경\n",
    "columns = ['읍면동(법정동)', '동물소유자수']\n",
    "nw_new = nw_df[columns]\n",
    "nw_new = nw_new.rename(columns={'읍면동(법정동)':'Dong', '동물소유자수':'Pet_Owners'})\n",
    "#nw_new.head(1)"
   ]
  },
  {
   "cell_type": "code",
   "execution_count": null,
   "metadata": {},
   "outputs": [],
   "source": [
    "#컬럼별 연산하여 컬럼 추가\n",
    "nw_new['Total_Registrations'] = np.sum(nw_df[['RFID종류(내장형)','RFID종류(외장형)','RFID종류(인식표)']],axis=1)\n",
    "nw_new.head()"
   ]
  },
  {
   "cell_type": "code",
   "execution_count": 126,
   "metadata": {},
   "outputs": [],
   "source": [
    "#컬럼 추가\n",
    "nw_new['Gu'] = '노원구'\n",
    "#컬럼 정렬\n",
    "nw_new = nw_new[['Gu', 'Dong', 'Pet_Owners', 'Total_Registrations']]\n",
    "#nw_new 확인\n",
    "#파일 추출\n",
    "nw_new.to_csv('nowon_김원_v1.csv')"
   ]
  },
  {
   "cell_type": "markdown",
   "metadata": {},
   "source": [
    "도봉구 전처리"
   ]
  },
  {
   "cell_type": "code",
   "execution_count": 127,
   "metadata": {},
   "outputs": [
    {
     "data": {
      "text/html": [
       "<div>\n",
       "<style scoped>\n",
       "    .dataframe tbody tr th:only-of-type {\n",
       "        vertical-align: middle;\n",
       "    }\n",
       "\n",
       "    .dataframe tbody tr th {\n",
       "        vertical-align: top;\n",
       "    }\n",
       "\n",
       "    .dataframe thead th {\n",
       "        text-align: right;\n",
       "    }\n",
       "</style>\n",
       "<table border=\"1\" class=\"dataframe\">\n",
       "  <thead>\n",
       "    <tr style=\"text-align: right;\">\n",
       "      <th></th>\n",
       "      <th>행정동</th>\n",
       "      <th>등록수</th>\n",
       "    </tr>\n",
       "  </thead>\n",
       "  <tbody>\n",
       "    <tr>\n",
       "      <th>0</th>\n",
       "      <td>쌍문동</td>\n",
       "      <td>3,717건</td>\n",
       "    </tr>\n",
       "    <tr>\n",
       "      <th>1</th>\n",
       "      <td>방학동</td>\n",
       "      <td>3,481건</td>\n",
       "    </tr>\n",
       "    <tr>\n",
       "      <th>2</th>\n",
       "      <td>도봉동</td>\n",
       "      <td>2,081건</td>\n",
       "    </tr>\n",
       "    <tr>\n",
       "      <th>3</th>\n",
       "      <td>창  동</td>\n",
       "      <td>5,397건</td>\n",
       "    </tr>\n",
       "  </tbody>\n",
       "</table>\n",
       "</div>"
      ],
      "text/plain": [
       "    행정동     등록수\n",
       "0   쌍문동  3,717건\n",
       "1   방학동  3,481건\n",
       "2   도봉동  2,081건\n",
       "3  창  동  5,397건"
      ]
     },
     "execution_count": 127,
     "metadata": {},
     "output_type": "execute_result"
    }
   ],
   "source": [
    "pd.read_csv('./datas/서울특별시_도봉구_반려동물등록현황_20191016.csv',encoding='cp949')"
   ]
  },
  {
   "cell_type": "code",
   "execution_count": null,
   "metadata": {},
   "outputs": [],
   "source": []
  },
  {
   "cell_type": "code",
   "execution_count": null,
   "metadata": {},
   "outputs": [],
   "source": []
  },
  {
   "cell_type": "code",
   "execution_count": null,
   "metadata": {},
   "outputs": [],
   "source": []
  },
  {
   "cell_type": "code",
   "execution_count": null,
   "metadata": {},
   "outputs": [],
   "source": []
  },
  {
   "cell_type": "code",
   "execution_count": null,
   "metadata": {},
   "outputs": [],
   "source": []
  },
  {
   "cell_type": "code",
   "execution_count": null,
   "metadata": {},
   "outputs": [],
   "source": []
  },
  {
   "cell_type": "code",
   "execution_count": null,
   "metadata": {},
   "outputs": [],
   "source": []
  },
  {
   "cell_type": "code",
   "execution_count": null,
   "metadata": {},
   "outputs": [],
   "source": []
  },
  {
   "cell_type": "code",
   "execution_count": null,
   "metadata": {},
   "outputs": [],
   "source": []
  },
  {
   "cell_type": "code",
   "execution_count": null,
   "metadata": {},
   "outputs": [],
   "source": []
  },
  {
   "cell_type": "code",
   "execution_count": null,
   "metadata": {},
   "outputs": [],
   "source": []
  }
 ],
 "metadata": {
  "kernelspec": {
   "display_name": "Python 3",
   "language": "python",
   "name": "python3"
  },
  "language_info": {
   "codemirror_mode": {
    "name": "ipython",
    "version": 3
   },
   "file_extension": ".py",
   "mimetype": "text/x-python",
   "name": "python",
   "nbconvert_exporter": "python",
   "pygments_lexer": "ipython3",
   "version": "3.12.3"
  }
 },
 "nbformat": 4,
 "nbformat_minor": 2
}
